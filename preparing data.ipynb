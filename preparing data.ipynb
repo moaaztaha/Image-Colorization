{
 "cells": [
  {
   "cell_type": "code",
   "execution_count": 18,
   "id": "2f3c04ba",
   "metadata": {},
   "outputs": [],
   "source": [
    "import pandas as pd\n",
    "from shutil import copyfile\n",
    "from tqdm import tqdm\n",
    "import os"
   ]
  },
  {
   "cell_type": "code",
   "execution_count": 3,
   "id": "539bd444",
   "metadata": {},
   "outputs": [
    {
     "data": {
      "text/html": [
       "<div>\n",
       "<style scoped>\n",
       "    .dataframe tbody tr th:only-of-type {\n",
       "        vertical-align: middle;\n",
       "    }\n",
       "\n",
       "    .dataframe tbody tr th {\n",
       "        vertical-align: top;\n",
       "    }\n",
       "\n",
       "    .dataframe thead th {\n",
       "        text-align: right;\n",
       "    }\n",
       "</style>\n",
       "<table border=\"1\" class=\"dataframe\">\n",
       "  <thead>\n",
       "    <tr style=\"text-align: right;\">\n",
       "      <th></th>\n",
       "      <th>file_name</th>\n",
       "      <th>split</th>\n",
       "      <th>caption</th>\n",
       "    </tr>\n",
       "  </thead>\n",
       "  <tbody>\n",
       "    <tr>\n",
       "      <th>0</th>\n",
       "      <td>2513260012_03d33305cf.jpg</td>\n",
       "      <td>train</td>\n",
       "      <td>A black dog is running after a white dog in th...</td>\n",
       "    </tr>\n",
       "    <tr>\n",
       "      <th>1</th>\n",
       "      <td>2513260012_03d33305cf.jpg</td>\n",
       "      <td>train</td>\n",
       "      <td>Black dog chasing brown dog through snow</td>\n",
       "    </tr>\n",
       "    <tr>\n",
       "      <th>2</th>\n",
       "      <td>2513260012_03d33305cf.jpg</td>\n",
       "      <td>train</td>\n",
       "      <td>Two dogs chase each other across the snowy gro...</td>\n",
       "    </tr>\n",
       "    <tr>\n",
       "      <th>3</th>\n",
       "      <td>2513260012_03d33305cf.jpg</td>\n",
       "      <td>train</td>\n",
       "      <td>Two dogs play together in the snow .</td>\n",
       "    </tr>\n",
       "    <tr>\n",
       "      <th>4</th>\n",
       "      <td>2513260012_03d33305cf.jpg</td>\n",
       "      <td>train</td>\n",
       "      <td>Two dogs running through a low lying body of w...</td>\n",
       "    </tr>\n",
       "  </tbody>\n",
       "</table>\n",
       "</div>"
      ],
      "text/plain": [
       "                   file_name  split  \\\n",
       "0  2513260012_03d33305cf.jpg  train   \n",
       "1  2513260012_03d33305cf.jpg  train   \n",
       "2  2513260012_03d33305cf.jpg  train   \n",
       "3  2513260012_03d33305cf.jpg  train   \n",
       "4  2513260012_03d33305cf.jpg  train   \n",
       "\n",
       "                                             caption  \n",
       "0  A black dog is running after a white dog in th...  \n",
       "1           Black dog chasing brown dog through snow  \n",
       "2  Two dogs chase each other across the snowy gro...  \n",
       "3               Two dogs play together in the snow .  \n",
       "4  Two dogs running through a low lying body of w...  "
      ]
     },
     "execution_count": 3,
     "metadata": {},
     "output_type": "execute_result"
    }
   ],
   "source": [
    "df = pd.read_csv('data.csv')\n",
    "df.head()"
   ]
  },
  {
   "cell_type": "code",
   "execution_count": 5,
   "id": "fc2f6608",
   "metadata": {},
   "outputs": [],
   "source": [
    "train_imgs = set(df[df['split'] == 'train'].file_name.values)\n",
    "valid_imgs = set(df[df['split'] == 'val'].file_name.values)\n",
    "test_imgs  = set(df[df['split'] == 'test'].file_name.values)"
   ]
  },
  {
   "cell_type": "code",
   "execution_count": 8,
   "id": "cbdba280",
   "metadata": {},
   "outputs": [],
   "source": [
    "dictionary = {'train': train_imgs, 'valid': valid_imgs, 'test': test_imgs}"
   ]
  },
  {
   "cell_type": "code",
   "execution_count": 11,
   "id": "26bb8100",
   "metadata": {},
   "outputs": [],
   "source": [
    "src_path = '/run/media/kelwa/DEV/GP/Image-Captioning/flickr/Images/'\n",
    "dest_path = './'"
   ]
  },
  {
   "cell_type": "code",
   "execution_count": 12,
   "id": "d43abf7e",
   "metadata": {},
   "outputs": [
    {
     "data": {
      "text/plain": [
       "True"
      ]
     },
     "execution_count": 12,
     "metadata": {},
     "output_type": "execute_result"
    }
   ],
   "source": [
    "os.path.isdir(src_path)"
   ]
  },
  {
   "cell_type": "code",
   "execution_count": 19,
   "id": "dc52d5f7",
   "metadata": {},
   "outputs": [
    {
     "name": "stderr",
     "output_type": "stream",
     "text": [
      "  0%|          | 0/3 [00:00<?, ?it/s]\n",
      "  0%|          | 0/6000 [00:00<?, ?it/s]\u001b[A\n",
      "\n",
      "  0%|          | 0/1000 [00:00<?, ?it/s]\u001b[A\n",
      "\n",
      "  0%|          | 0/1000 [00:00<?, ?it/s]\u001b[A\n",
      "100%|██████████| 3/3 [00:00<00:00, 154.88it/s]\n"
     ]
    }
   ],
   "source": [
    "for f in tqdm(dictionary.keys()):\n",
    "    current_path = os.path.join(dir_path, f)\n",
    "    if not os.path.isdir(current_path):\n",
    "        os.mkdir(current_path)\n",
    "    for img_name in tqdm(dictionary[f]):\n",
    "        img_path = os.path.join(src_path, img_name)\n",
    "        copyfile(img_path, current_path+'/'+img_name)\n",
    "        break"
   ]
  },
  {
   "cell_type": "code",
   "execution_count": null,
   "id": "0fa80333",
   "metadata": {},
   "outputs": [],
   "source": []
  }
 ],
 "metadata": {
  "kernelspec": {
   "display_name": "Python 3",
   "language": "python",
   "name": "python3"
  },
  "language_info": {
   "codemirror_mode": {
    "name": "ipython",
    "version": 3
   },
   "file_extension": ".py",
   "mimetype": "text/x-python",
   "name": "python",
   "nbconvert_exporter": "python",
   "pygments_lexer": "ipython3",
   "version": "3.8.8"
  }
 },
 "nbformat": 4,
 "nbformat_minor": 5
}
